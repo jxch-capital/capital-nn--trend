{
 "cells": [
  {
   "cell_type": "code",
   "execution_count": null,
   "metadata": {
    "collapsed": true
   },
   "outputs": [],
   "source": [
    "import indicators.advantage_excursion as ae\n",
    "import db.codes_db as cdb\n",
    "import random\n",
    "import numpy as np"
   ]
  },
  {
   "cell_type": "code",
   "execution_count": null,
   "outputs": [],
   "source": [
    "codes = cdb.find_all_code()\n",
    "random.shuffle(codes)\n",
    "sp = int(len(codes)*0.7)\n",
    "\n",
    "t_codes = codes[0:sp]\n",
    "v_codes = codes[sp:len(codes)]\n",
    "print(t_codes, v_codes)"
   ],
   "metadata": {
    "collapsed": false
   }
  },
  {
   "cell_type": "code",
   "execution_count": null,
   "outputs": [],
   "source": [
    "np.savez('training_codes', codes=np.asarray(t_codes))\n",
    "np.savez('validation_codes', codes=np.asarray(v_codes))"
   ],
   "metadata": {
    "collapsed": false
   }
  },
  {
   "cell_type": "code",
   "execution_count": null,
   "outputs": [],
   "source": [
    "samples_t = ae.build_samples(t_codes)"
   ],
   "metadata": {
    "collapsed": false
   }
  },
  {
   "cell_type": "code",
   "execution_count": null,
   "outputs": [],
   "source": [
    "np.savez('training_raw_k', k=ae.training_samples_by(samples_t, 'k'))\n",
    "np.savez('training_y', label_bull_hot=ae.training_samples_by(samples_t, 'label_bull_hot'), label_bear_hot=ae.training_samples_by(samples_t, 'label_bear_hot'), label_total_hot=ae.training_samples_by(samples_t, 'label_total_hot'))"
   ],
   "metadata": {
    "collapsed": false
   }
  },
  {
   "cell_type": "code",
   "execution_count": null,
   "outputs": [],
   "source": [
    "k = np.load('training_raw_k.npz')['k']"
   ],
   "metadata": {
    "collapsed": false
   }
  },
  {
   "cell_type": "code",
   "execution_count": null,
   "outputs": [],
   "source": [
    "training_nor_k = ae.normalization(k)"
   ],
   "metadata": {
    "collapsed": false
   }
  },
  {
   "cell_type": "code",
   "execution_count": null,
   "outputs": [],
   "source": [
    "training_nor_k = ae.normalization(ae.training_samples_by(samples_t, 'k'))"
   ],
   "metadata": {
    "collapsed": false
   }
  },
  {
   "cell_type": "code",
   "execution_count": null,
   "outputs": [],
   "source": [
    "np.savez('training_nor_k', k=training_nor_k)"
   ],
   "metadata": {
    "collapsed": false
   }
  },
  {
   "cell_type": "code",
   "execution_count": null,
   "outputs": [],
   "source": [
    "# v_codes = np.load('validation_codes.npz')['codes']"
   ],
   "metadata": {
    "collapsed": false
   }
  },
  {
   "cell_type": "code",
   "execution_count": null,
   "outputs": [],
   "source": [
    "samples_v = ae.build_samples(v_codes)"
   ],
   "metadata": {
    "collapsed": false
   }
  },
  {
   "cell_type": "code",
   "execution_count": null,
   "outputs": [],
   "source": [
    "np.savez('validation_raw_k', k=ae.training_samples_by(samples_v, 'k'))\n",
    "np.savez('validation_y', label_bull_hot=ae.training_samples_by(samples_v, 'label_bull_hot'), label_bear_hot=ae.training_samples_by(samples_v, 'label_bear_hot'), label_total_hot=ae.training_samples_by(samples_v, 'label_total_hot'))"
   ],
   "metadata": {
    "collapsed": false
   }
  },
  {
   "cell_type": "code",
   "execution_count": null,
   "outputs": [],
   "source": [
    "validation_nor_k = ae.normalization(ae.training_samples_by(samples_v, 'k'))"
   ],
   "metadata": {
    "collapsed": false
   }
  },
  {
   "cell_type": "code",
   "execution_count": null,
   "outputs": [],
   "source": [
    "np.savez('validation_nor_k', k=validation_nor_k)"
   ],
   "metadata": {
    "collapsed": false
   }
  },
  {
   "cell_type": "code",
   "execution_count": null,
   "outputs": [],
   "source": [],
   "metadata": {
    "collapsed": false
   }
  }
 ],
 "metadata": {
  "kernelspec": {
   "display_name": "Python 3",
   "language": "python",
   "name": "python3"
  },
  "language_info": {
   "codemirror_mode": {
    "name": "ipython",
    "version": 2
   },
   "file_extension": ".py",
   "mimetype": "text/x-python",
   "name": "python",
   "nbconvert_exporter": "python",
   "pygments_lexer": "ipython2",
   "version": "2.7.6"
  }
 },
 "nbformat": 4,
 "nbformat_minor": 0
}
