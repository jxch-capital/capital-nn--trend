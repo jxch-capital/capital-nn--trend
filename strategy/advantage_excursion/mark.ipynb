{
 "cells": [
  {
   "cell_type": "code",
   "execution_count": null,
   "metadata": {
    "collapsed": true
   },
   "outputs": [],
   "source": [
    "import numpy as np\n",
    "import tensorflow as tf\n",
    "import utils.socket_util as su\n",
    "import yfinance as yf\n",
    "import cufflinks as cf\n",
    "import matplotlib.pyplot as plt\n",
    "import db.raw_k_db as k\n",
    "import indicators.atr as atr\n",
    "import indicators.advantage_excursion as ae\n",
    "import db.codes_db as cdb\n",
    "import datetime\n",
    "import random\n",
    "\n",
    "su.set_proxy()\n",
    "cf.set_config_file(offline=True)"
   ]
  },
  {
   "cell_type": "code",
   "execution_count": null,
   "outputs": [],
   "source": [
    "codes = cdb.find_all_code()\n",
    "random.shuffle(codes)\n",
    "sp = int(len(codes)*0.7)\n",
    "\n",
    "t_codes = codes[0:sp]\n",
    "v_codes = codes[sp:len(codes)]\n",
    "print(t_codes, v_codes)"
   ],
   "metadata": {
    "collapsed": false
   }
  },
  {
   "cell_type": "code",
   "execution_count": null,
   "outputs": [],
   "source": [
    "np.savez('training_codes', codes=np.asarray(t_codes))\n",
    "np.savez('validation_codes', codes=np.asarray(v_codes))"
   ],
   "metadata": {
    "collapsed": false
   }
  },
  {
   "cell_type": "code",
   "execution_count": null,
   "outputs": [],
   "source": [
    "samples_t = ae.build_samples(t_codes)"
   ],
   "metadata": {
    "collapsed": false
   }
  },
  {
   "cell_type": "code",
   "execution_count": null,
   "outputs": [],
   "source": [
    "validation_codes = np.load('validation_codes.npz')\n",
    "v_codes = validation_codes['codes']"
   ],
   "metadata": {
    "collapsed": false
   }
  },
  {
   "cell_type": "code",
   "execution_count": null,
   "outputs": [],
   "source": [
    "samples_v = ae.build_samples(v_codes)"
   ],
   "metadata": {
    "collapsed": false
   }
  },
  {
   "cell_type": "code",
   "execution_count": null,
   "outputs": [],
   "source": [
    "np.savez('validation_raw_k', k=ae.training_samples_by(samples_v, 'k'))"
   ],
   "metadata": {
    "collapsed": false
   }
  },
  {
   "cell_type": "code",
   "execution_count": null,
   "outputs": [],
   "source": [
    "np.savez('validation_y', label_bull_hot=ae.training_samples_by(samples_v, 'label_bull_hot'), label_bear_hot=ae.training_samples_by(samples_v, 'label_bear_hot'), label_total_hot=ae.training_samples_by(samples_v, 'label_total_hot'))"
   ],
   "metadata": {
    "collapsed": false
   }
  },
  {
   "cell_type": "code",
   "execution_count": null,
   "outputs": [],
   "source": [
    "np.savez('training_raw_data', k=ae.training_samples_by(samples_t, 'k'), label_bull_hot=ae.training_samples_by(samples_t, 'label_bull_hot'), label_bear_hot=ae.training_samples_by(samples_t, 'label_bear_hot'), label_total_hot=ae.training_samples_by(samples_t, 'label_total_hot'))"
   ],
   "metadata": {
    "collapsed": false
   }
  },
  {
   "cell_type": "code",
   "execution_count": null,
   "outputs": [],
   "source": [
    "training_raw_data = np.load('training_raw_data.npz')"
   ],
   "metadata": {
    "collapsed": false
   }
  },
  {
   "cell_type": "code",
   "execution_count": null,
   "outputs": [],
   "source": [
    "np.savez('training_y', label_bull_hot=training_raw_data['label_bull_hot'], label_bear_hot=training_raw_data['label_bear_hot'], label_total_hot=training_raw_data['label_total_hot'])"
   ],
   "metadata": {
    "collapsed": false
   }
  },
  {
   "cell_type": "code",
   "execution_count": null,
   "outputs": [],
   "source": [
    "np.savez('training_raw_k', k=training_raw_data['k'])"
   ],
   "metadata": {
    "collapsed": false
   }
  },
  {
   "cell_type": "code",
   "execution_count": null,
   "outputs": [],
   "source": [
    "training_raw_k = np.load('training_raw_k.npz')"
   ],
   "metadata": {
    "collapsed": false
   }
  },
  {
   "cell_type": "code",
   "execution_count": null,
   "outputs": [],
   "source": [
    "normalization_samples_k = ae.normalization(training_raw_k['k'])"
   ],
   "metadata": {
    "collapsed": false
   }
  },
  {
   "cell_type": "code",
   "execution_count": null,
   "outputs": [],
   "source": [
    "np.savez('training_nor_k', k=normalization_samples_k)"
   ],
   "metadata": {
    "collapsed": false
   }
  },
  {
   "cell_type": "code",
   "execution_count": null,
   "outputs": [],
   "source": [
    "validation_raw_k = np.load('validation_raw_k.npz')"
   ],
   "metadata": {
    "collapsed": false
   }
  },
  {
   "cell_type": "code",
   "execution_count": null,
   "outputs": [],
   "source": [
    "normalization_samples_k_v = ae.normalization(validation_raw_k['k'])"
   ],
   "metadata": {
    "collapsed": false
   }
  },
  {
   "cell_type": "code",
   "execution_count": null,
   "outputs": [],
   "source": [
    "np.savez('validation_nor_k', k=normalization_samples_k_v)"
   ],
   "metadata": {
    "collapsed": false
   }
  },
  {
   "cell_type": "code",
   "execution_count": null,
   "outputs": [],
   "source": [
    "normalization_samples_k_v"
   ],
   "metadata": {
    "collapsed": false
   }
  },
  {
   "cell_type": "code",
   "execution_count": null,
   "outputs": [],
   "source": [
    "spy = k.find_by_code_and_interval('SPY', '1d')\n",
    "spy = atr.calculate(spy)\n",
    "spy = ae.calculate(spy)\n",
    "spy = ae.mark(spy)\n",
    "samples_v = ae.get_training_samples(spy)"
   ],
   "metadata": {
    "collapsed": false
   }
  },
  {
   "cell_type": "code",
   "execution_count": null,
   "outputs": [],
   "source": [
    "model = tf.keras.models.Sequential([\n",
    "    # input_shape 保持和数据集一致\n",
    "    tf.keras.layers.Dense(32,input_shape=(120, 4), activation='relu'),\n",
    "    # tf.keras.layers.MaxPool1D(2),\n",
    "\n",
    "    tf.keras.layers.Dense(64, activation='relu'),\n",
    "    # tf.keras.layers.MaxPool1D(2),\n",
    "\n",
    "    tf.keras.layers.Dense(128,activation='relu'),\n",
    "    # tf.keras.layers.MaxPool1D(2),\n",
    "\n",
    "    tf.keras.layers.Flatten(),\n",
    "    # tf.keras.layers.Dropout(0.2),\n",
    "    tf.keras.layers.Dense(512, activation='relu'),\n",
    "    tf.keras.layers.Dense(1024, activation='relu'),\n",
    "    tf.keras.layers.Dense(9, activation='sigmoid'),\n",
    "])\n",
    "model.build()\n",
    "model.summary()"
   ],
   "metadata": {
    "collapsed": false
   }
  },
  {
   "cell_type": "code",
   "execution_count": null,
   "outputs": [],
   "source": [
    "model.compile(loss='binary_crossentropy', optimizer=tf.keras.optimizers.Adam(learning_rate=0.0001), metrics=['acc'])"
   ],
   "metadata": {
    "collapsed": false
   }
  },
  {
   "cell_type": "code",
   "execution_count": null,
   "outputs": [],
   "source": [
    "his = model.fit(ae.training_samples_by(samples_t,'k'), ae.training_samples_by(samples_t,'label_bull_hot'), epochs=20, validation_data=(ae.training_samples_by(samples_v,'k'), ae.training_samples_by(samples_v,'label_bull_hot')))"
   ],
   "metadata": {
    "collapsed": false
   }
  },
  {
   "cell_type": "code",
   "execution_count": null,
   "outputs": [],
   "source": [
    "plt.plot(his.history['acc'], label = 'Training')\n",
    "plt.plot(his.history['val_acc'], label = 'Validation')\n",
    "plt.legend()\n",
    "plt.show()"
   ],
   "metadata": {
    "collapsed": false
   }
  },
  {
   "cell_type": "code",
   "execution_count": null,
   "outputs": [],
   "source": [
    "xlp = k.find_by_code_and_interval('XLP', '1d')\n",
    "xlp = xlp.loc[xlp.query('low > 2')['low'].idxmin():xlp.index[-1]] if xlp.loc[xlp.index[0]]['low'] < 2 else xlp\n",
    "xlp = atr.calculate(xlp)\n",
    "xlp = ae.calculate(xlp)\n",
    "xlp = ae.mark(xlp)\n",
    "\n",
    "samples = ae.get_training_samples(xlp)\n",
    "k_hots = ae.training_samples_by(samples, 'k')\n",
    "\n",
    "print(k_hots)"
   ],
   "metadata": {
    "collapsed": false
   }
  },
  {
   "cell_type": "code",
   "execution_count": null,
   "outputs": [],
   "source": [
    "a = [1]\n",
    "b = [0]\n",
    "a.extend(b)"
   ],
   "metadata": {
    "collapsed": false
   }
  },
  {
   "cell_type": "code",
   "execution_count": null,
   "outputs": [],
   "source": [
    "a"
   ],
   "metadata": {
    "collapsed": false
   }
  },
  {
   "cell_type": "code",
   "execution_count": null,
   "outputs": [],
   "source": [],
   "metadata": {
    "collapsed": false
   }
  }
 ],
 "metadata": {
  "kernelspec": {
   "display_name": "Python 3",
   "language": "python",
   "name": "python3"
  },
  "language_info": {
   "codemirror_mode": {
    "name": "ipython",
    "version": 2
   },
   "file_extension": ".py",
   "mimetype": "text/x-python",
   "name": "python",
   "nbconvert_exporter": "python",
   "pygments_lexer": "ipython2",
   "version": "2.7.6"
  }
 },
 "nbformat": 4,
 "nbformat_minor": 0
}
