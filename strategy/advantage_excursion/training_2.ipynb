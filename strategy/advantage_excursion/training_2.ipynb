{
 "cells": [
  {
   "cell_type": "code",
   "execution_count": null,
   "metadata": {
    "collapsed": true
   },
   "outputs": [],
   "source": [
    "import tensorflow as tf\n",
    "import matplotlib.pyplot as plt\n",
    "import numpy as np\n",
    "import indicators.advantage_excursion as ae"
   ]
  },
  {
   "cell_type": "code",
   "execution_count": null,
   "outputs": [],
   "source": [
    "training_nor_k = np.load('training_nor_k.npz')\n",
    "validation_nor_k = np.load('validation_nor_k.npz')\n",
    "training_y = np.load('training_y.npz')\n",
    "validation_y = np.load('validation_y.npz')"
   ],
   "metadata": {
    "collapsed": false
   }
  },
  {
   "cell_type": "code",
   "execution_count": null,
   "outputs": [],
   "source": [
    "training_mark2 = ae.re_code_total_mark2(training_y['label_total_hot'])\n",
    "validation_mark2 = ae.re_code_total_mark2(validation_y['label_total_hot'])"
   ],
   "metadata": {
    "collapsed": false
   }
  },
  {
   "cell_type": "code",
   "execution_count": null,
   "outputs": [],
   "source": [
    "model = tf.keras.models.Sequential([\n",
    "    # input_shape 保持和数据集一致\n",
    "    tf.keras.layers.LSTM(128,input_shape=(240, 4), activation='relu'),\n",
    "    # tf.keras.layers.MaxPool1D(2),\n",
    "\n",
    "    # tf.keras.layers.LSTM(64, activation='relu'),\n",
    "    # tf.keras.layers.MaxPool1D(2),\n",
    "\n",
    "    # tf.keras.layers.LSTM(128,activation='relu'),\n",
    "    # tf.keras.layers.MaxPool1D(2),\n",
    "\n",
    "    # tf.keras.layers.LSTM(512, activation='relu'),\n",
    "\n",
    "    tf.keras.layers.Flatten(),\n",
    "    # tf.keras.layers.Dropout(0.2),\n",
    "    tf.keras.layers.Dense(512, activation='relu'),\n",
    "    tf.keras.layers.Dense(1, activation='sigmoid'),\n",
    "])\n",
    "model.build()\n",
    "model.summary()"
   ],
   "metadata": {
    "collapsed": false
   }
  },
  {
   "cell_type": "code",
   "execution_count": null,
   "outputs": [],
   "source": [
    "model.compile(loss='binary_crossentropy', optimizer=tf.keras.optimizers.Adam(learning_rate=0.01), metrics=['acc'])"
   ],
   "metadata": {
    "collapsed": false
   }
  },
  {
   "cell_type": "code",
   "execution_count": null,
   "outputs": [],
   "source": [
    "his = model.fit(training_nor_k['k'], training_mark2, epochs=10, validation_data=(validation_nor_k['k'], validation_mark2))"
   ],
   "metadata": {
    "collapsed": false
   }
  },
  {
   "cell_type": "code",
   "execution_count": null,
   "outputs": [],
   "source": [
    "plt.plot(his.history['acc'], label = 'Training')\n",
    "plt.plot(his.history['val_acc'], label = 'Validation')\n",
    "plt.legend()\n",
    "plt.show()"
   ],
   "metadata": {
    "collapsed": false
   }
  },
  {
   "cell_type": "code",
   "execution_count": null,
   "outputs": [],
   "source": [
    "ae.re_code_total_mark2(validation_y['label_total_hot'])"
   ],
   "metadata": {
    "collapsed": false
   }
  },
  {
   "cell_type": "code",
   "execution_count": null,
   "outputs": [],
   "source": [
    "training_mark2"
   ],
   "metadata": {
    "collapsed": false
   }
  },
  {
   "cell_type": "code",
   "execution_count": null,
   "outputs": [],
   "source": [],
   "metadata": {
    "collapsed": false
   }
  }
 ],
 "metadata": {
  "kernelspec": {
   "display_name": "Python 3",
   "language": "python",
   "name": "python3"
  },
  "language_info": {
   "codemirror_mode": {
    "name": "ipython",
    "version": 2
   },
   "file_extension": ".py",
   "mimetype": "text/x-python",
   "name": "python",
   "nbconvert_exporter": "python",
   "pygments_lexer": "ipython2",
   "version": "2.7.6"
  }
 },
 "nbformat": 4,
 "nbformat_minor": 0
}
