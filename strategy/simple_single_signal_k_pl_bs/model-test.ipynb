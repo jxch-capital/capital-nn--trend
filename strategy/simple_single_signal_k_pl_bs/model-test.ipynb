{
 "cells": [
  {
   "cell_type": "code",
   "execution_count": 1,
   "metadata": {
    "collapsed": true,
    "ExecuteTime": {
     "start_time": "2023-04-16T22:43:22.039763Z",
     "end_time": "2023-04-16T22:43:26.672121Z"
    }
   },
   "outputs": [],
   "source": [
    "import tensorflow as tf\n",
    "import matplotlib.pyplot as plt\n",
    "import numpy as np\n",
    "from strategy.simple_single_signal_k_pl_bs.auto_generator_by_db import Generator\n",
    "import utils.stock_util as stock\n",
    "import pandas as pd\n",
    "import pickle\n",
    "import warnings\n",
    "\n",
    "warnings.filterwarnings('ignore')\n",
    "generator = Generator(normalized=stock.percentage_normalized, slide=100)"
   ]
  },
  {
   "cell_type": "code",
   "execution_count": 2,
   "outputs": [
    {
     "name": "stdout",
     "output_type": "stream",
     "text": [
      "build success: 129 s\n"
     ]
    }
   ],
   "source": [
    "generator.build_debug()"
   ],
   "metadata": {
    "collapsed": false,
    "ExecuteTime": {
     "start_time": "2023-04-16T22:43:32.184764Z",
     "end_time": "2023-04-16T22:45:41.354087Z"
    }
   }
  },
  {
   "cell_type": "code",
   "execution_count": 3,
   "outputs": [
    {
     "name": "stdout",
     "output_type": "stream",
     "text": [
      "dataset success: 2 s\n"
     ]
    }
   ],
   "source": [
    "training = generator.get_training_random_single(size=1000)"
   ],
   "metadata": {
    "collapsed": false,
    "ExecuteTime": {
     "start_time": "2023-04-16T22:45:47.784132Z",
     "end_time": "2023-04-16T22:45:50.499036Z"
    }
   }
  },
  {
   "cell_type": "code",
   "execution_count": 4,
   "outputs": [
    {
     "name": "stdout",
     "output_type": "stream",
     "text": [
      "dataset success: 0 s\n"
     ]
    }
   ],
   "source": [
    "validation = generator.get_validation_random_single(size=100)"
   ],
   "metadata": {
    "collapsed": false,
    "ExecuteTime": {
     "start_time": "2023-04-16T22:45:57.721934Z",
     "end_time": "2023-04-16T22:45:57.994718Z"
    }
   }
  },
  {
   "cell_type": "code",
   "execution_count": 5,
   "outputs": [
    {
     "name": "stdout",
     "output_type": "stream",
     "text": [
      "Model: \"sequential\"\n",
      "_________________________________________________________________\n",
      " Layer (type)                Output Shape              Param #   \n",
      "=================================================================\n",
      " dense (Dense)               (None, 100, 32)           160       \n",
      "                                                                 \n",
      " dense_1 (Dense)             (None, 100, 64)           2112      \n",
      "                                                                 \n",
      " dense_2 (Dense)             (None, 100, 128)          8320      \n",
      "                                                                 \n",
      " dense_3 (Dense)             (None, 100, 256)          33024     \n",
      "                                                                 \n",
      " flatten (Flatten)           (None, 25600)             0         \n",
      "                                                                 \n",
      " dense_4 (Dense)             (None, 512)               13107712  \n",
      "                                                                 \n",
      " dense_5 (Dense)             (None, 1024)              525312    \n",
      "                                                                 \n",
      " dense_6 (Dense)             (None, 3)                 3075      \n",
      "                                                                 \n",
      "=================================================================\n",
      "Total params: 13,679,715\n",
      "Trainable params: 13,679,715\n",
      "Non-trainable params: 0\n",
      "_________________________________________________________________\n"
     ]
    }
   ],
   "source": [
    "model = tf.keras.models.Sequential([\n",
    "    tf.keras.layers.Dense(32, activation='relu', input_shape=(100, 4)),\n",
    "    tf.keras.layers.Dense(64, activation='relu'),\n",
    "    tf.keras.layers.Dense(128, activation='relu'),\n",
    "    tf.keras.layers.Dense(256, activation='relu'),\n",
    "    tf.keras.layers.Flatten(),\n",
    "    # tf.keras.layers.Dropout(0.2),\n",
    "    tf.keras.layers.Dense(512, activation='relu'),\n",
    "    tf.keras.layers.Dense(1024, activation='relu'),\n",
    "    tf.keras.layers.Dense(3, activation='softmax'),\n",
    "])\n",
    "model.build()\n",
    "model.summary()\n",
    "model.compile(loss='sparse_categorical_crossentropy',\n",
    "              optimizer=tf.keras.optimizers.Adam(learning_rate=0.00001),\n",
    "              metrics=['acc'])"
   ],
   "metadata": {
    "collapsed": false,
    "ExecuteTime": {
     "start_time": "2023-04-16T22:46:11.263114Z",
     "end_time": "2023-04-16T22:46:11.956813Z"
    }
   }
  },
  {
   "cell_type": "code",
   "execution_count": 22,
   "outputs": [],
   "source": [
    "x = training['d1']\n",
    "y = training['d2']\n",
    "v_x = validation['d1']\n",
    "v_y = validation['d2']"
   ],
   "metadata": {
    "collapsed": false,
    "ExecuteTime": {
     "start_time": "2023-04-17T00:02:57.196643Z",
     "end_time": "2023-04-17T00:02:58.379407Z"
    }
   }
  },
  {
   "cell_type": "code",
   "execution_count": null,
   "outputs": [
    {
     "name": "stdout",
     "output_type": "stream",
     "text": [
      "Epoch 1/10\n",
      "12500/12500 [==============================] - 125s 10ms/step - loss: 0.1442 - acc: 0.9446 - val_loss: 2.0329 - val_acc: 0.6638\n",
      "Epoch 2/10\n",
      "12500/12500 [==============================] - 130s 10ms/step - loss: 0.1259 - acc: 0.9531 - val_loss: 2.0114 - val_acc: 0.6824\n",
      "Epoch 3/10\n",
      "12500/12500 [==============================] - 130s 10ms/step - loss: 0.1075 - acc: 0.9609 - val_loss: 2.4203 - val_acc: 0.6643\n",
      "Epoch 4/10\n",
      "12500/12500 [==============================] - 131s 11ms/step - loss: 0.0920 - acc: 0.9673 - val_loss: 2.4210 - val_acc: 0.6762\n",
      "Epoch 5/10\n",
      "12500/12500 [==============================] - 133s 11ms/step - loss: 0.0787 - acc: 0.9727 - val_loss: 3.0494 - val_acc: 0.6571\n",
      "Epoch 6/10\n",
      "12500/12500 [==============================] - 133s 11ms/step - loss: 0.0682 - acc: 0.9771 - val_loss: 2.9108 - val_acc: 0.6658\n",
      "Epoch 7/10\n",
      "12500/12500 [==============================] - 136s 11ms/step - loss: 0.0592 - acc: 0.9809 - val_loss: 3.1215 - val_acc: 0.6597\n",
      "Epoch 8/10\n",
      "12500/12500 [==============================] - 133s 11ms/step - loss: 0.0524 - acc: 0.9834 - val_loss: 3.3092 - val_acc: 0.6627\n",
      "Epoch 9/10\n",
      "12500/12500 [==============================] - 133s 11ms/step - loss: 0.0467 - acc: 0.9856 - val_loss: 3.5593 - val_acc: 0.6635\n",
      "Epoch 10/10\n",
      "11290/12500 [==========================>...] - ETA: 14s - loss: 0.0407 - acc: 0.9879"
     ]
    }
   ],
   "source": [
    "his = model.fit(x, y, epochs=10, validation_data=(v_x, v_y))"
   ],
   "metadata": {
    "collapsed": false,
    "ExecuteTime": {
     "start_time": "2023-04-16T22:46:20.076925Z",
     "end_time": "2023-04-16T22:46:26.435666Z"
    },
    "pycharm": {
     "is_executing": true
    }
   }
  },
  {
   "cell_type": "code",
   "execution_count": 13,
   "outputs": [],
   "source": [
    "training = np.load('training.npz')"
   ],
   "metadata": {
    "collapsed": false,
    "ExecuteTime": {
     "start_time": "2023-04-16T22:51:39.841252Z",
     "end_time": "2023-04-16T22:51:39.849763Z"
    }
   }
  },
  {
   "cell_type": "code",
   "execution_count": 14,
   "outputs": [],
   "source": [
    "validation = np.load('validation.npz')"
   ],
   "metadata": {
    "collapsed": false,
    "ExecuteTime": {
     "start_time": "2023-04-16T22:51:41.465617Z",
     "end_time": "2023-04-16T22:51:41.471012Z"
    }
   }
  },
  {
   "cell_type": "code",
   "execution_count": 21,
   "outputs": [],
   "source": [],
   "metadata": {
    "collapsed": false,
    "ExecuteTime": {
     "start_time": "2023-04-17T00:02:49.589020Z",
     "end_time": "2023-04-17T00:02:50.825988Z"
    }
   }
  },
  {
   "cell_type": "code",
   "execution_count": 20,
   "outputs": [
    {
     "name": "stdout",
     "output_type": "stream",
     "text": [
      "Epoch 1/10\n",
      "12500/12500 [==============================] - 125s 10ms/step - loss: 0.6268 - acc: 0.6837 - val_loss: 0.7200 - val_acc: 0.6454\n",
      "Epoch 2/10\n",
      "12500/12500 [==============================] - 126s 10ms/step - loss: 0.5180 - acc: 0.7407 - val_loss: 0.6758 - val_acc: 0.6882\n",
      "Epoch 3/10\n",
      "12500/12500 [==============================] - 130s 10ms/step - loss: 0.4516 - acc: 0.7785 - val_loss: 0.7873 - val_acc: 0.6796\n",
      "Epoch 4/10\n",
      "12500/12500 [==============================] - 129s 10ms/step - loss: 0.3949 - acc: 0.8119 - val_loss: 0.8603 - val_acc: 0.6762\n",
      "Epoch 5/10\n",
      "12500/12500 [==============================] - 131s 10ms/step - loss: 0.3448 - acc: 0.8412 - val_loss: 0.9989 - val_acc: 0.6727\n",
      "Epoch 6/10\n",
      "12500/12500 [==============================] - 133s 11ms/step - loss: 0.3013 - acc: 0.8652 - val_loss: 1.1529 - val_acc: 0.6670\n",
      "Epoch 7/10\n",
      "12500/12500 [==============================] - 131s 11ms/step - loss: 0.2610 - acc: 0.8869 - val_loss: 1.3808 - val_acc: 0.6572\n",
      "Epoch 8/10\n",
      "12500/12500 [==============================] - 131s 10ms/step - loss: 0.2261 - acc: 0.9049 - val_loss: 1.4853 - val_acc: 0.6704\n",
      "Epoch 9/10\n",
      "12500/12500 [==============================] - 131s 10ms/step - loss: 0.1950 - acc: 0.9205 - val_loss: 1.6575 - val_acc: 0.6737\n",
      "Epoch 10/10\n",
      "12500/12500 [==============================] - 134s 11ms/step - loss: 0.1685 - acc: 0.9329 - val_loss: 1.8646 - val_acc: 0.6566\n"
     ]
    },
    {
     "data": {
      "text/plain": "<keras.callbacks.History at 0x21c3f8928c0>"
     },
     "execution_count": 20,
     "metadata": {},
     "output_type": "execute_result"
    }
   ],
   "source": [
    "his = model.fit(x, y, epochs=10, validation_data=(v_x, v_y))"
   ],
   "metadata": {
    "collapsed": false,
    "ExecuteTime": {
     "start_time": "2023-04-16T23:22:54.767431Z",
     "end_time": "2023-04-16T23:44:37.580632Z"
    }
   }
  },
  {
   "cell_type": "code",
   "execution_count": 19,
   "outputs": [],
   "source": [],
   "metadata": {
    "collapsed": false,
    "ExecuteTime": {
     "start_time": "2023-04-16T22:59:38.392231Z",
     "end_time": "2023-04-16T22:59:38.953428Z"
    }
   }
  },
  {
   "cell_type": "code",
   "execution_count": null,
   "outputs": [],
   "source": [],
   "metadata": {
    "collapsed": false
   }
  }
 ],
 "metadata": {
  "kernelspec": {
   "display_name": "Python 3",
   "language": "python",
   "name": "python3"
  },
  "language_info": {
   "codemirror_mode": {
    "name": "ipython",
    "version": 2
   },
   "file_extension": ".py",
   "mimetype": "text/x-python",
   "name": "python",
   "nbconvert_exporter": "python",
   "pygments_lexer": "ipython2",
   "version": "2.7.6"
  }
 },
 "nbformat": 4,
 "nbformat_minor": 0
}
